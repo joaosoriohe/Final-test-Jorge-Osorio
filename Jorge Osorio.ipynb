{
 "cells": [
  {
   "cell_type": "markdown",
   "id": "f5051054",
   "metadata": {},
   "source": [
    "# My Jupyter Notebook on IBM Watson Studio\n"
   ]
  },
  {
   "cell_type": "markdown",
   "id": "fda17d4a",
   "metadata": {},
   "source": [
    "**Jorge Andres Osorio Henao**\n",
    "Credit Risk Analyst"
   ]
  },
  {
   "cell_type": "markdown",
   "id": "6833990e",
   "metadata": {},
   "source": [
    "*I am interested in Data Science because I work with a lot of information in my work, so I think Data Science might help me much to understand in a better way this data*."
   ]
  },
  {
   "cell_type": "markdown",
   "id": "a5776cd8",
   "metadata": {},
   "source": [
    "### The code is going to show the result of multiply 2 and 3"
   ]
  },
  {
   "cell_type": "code",
   "execution_count": 4,
   "id": "48a4cfd6",
   "metadata": {},
   "outputs": [
    {
     "name": "stdout",
     "output_type": "stream",
     "text": [
      "6\n"
     ]
    }
   ],
   "source": [
    "s = 2*3\n",
    "print (s)"
   ]
  },
  {
   "cell_type": "markdown",
   "id": "428e0116",
   "metadata": {},
   "source": [
    "|Brand|Color|Year|\n",
    "|-----|-----|----|\n",
    "|Ferrari|Blue|2019|\n",
    "|BMW|Red|2020|\n",
    "|Mercedes|Orange|2021|\n"
   ]
  },
  {
   "cell_type": "markdown",
   "id": "4027c55c",
   "metadata": {},
   "source": [
    "Hola\n",
    "---\n",
    "Esto es\n",
    "***\n",
    "Horizontal rule\n",
    "____\n"
   ]
  },
  {
   "cell_type": "markdown",
   "id": "1b13b6d6",
   "metadata": {},
   "source": [
    "<http://www.google.com>\n",
    "\n",
    "    "
   ]
  },
  {
   "cell_type": "code",
   "execution_count": null,
   "id": "0b869165",
   "metadata": {},
   "outputs": [],
   "source": []
  }
 ],
 "metadata": {
  "kernelspec": {
   "display_name": "Python 3 (ipykernel)",
   "language": "python",
   "name": "python3"
  },
  "language_info": {
   "codemirror_mode": {
    "name": "ipython",
    "version": 3
   },
   "file_extension": ".py",
   "mimetype": "text/x-python",
   "name": "python",
   "nbconvert_exporter": "python",
   "pygments_lexer": "ipython3",
   "version": "3.9.13"
  }
 },
 "nbformat": 4,
 "nbformat_minor": 5
}
